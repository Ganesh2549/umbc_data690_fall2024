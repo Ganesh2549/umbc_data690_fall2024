{
  "nbformat": 4,
  "nbformat_minor": 0,
  "metadata": {
    "colab": {
      "provenance": [],
      "authorship_tag": "ABX9TyPnNySDzNsH3pDEEuVGCB6L",
      "include_colab_link": true
    },
    "kernelspec": {
      "name": "python3",
      "display_name": "Python 3"
    },
    "language_info": {
      "name": "python"
    }
  },
  "cells": [
    {
      "cell_type": "markdown",
      "metadata": {
        "id": "view-in-github",
        "colab_type": "text"
      },
      "source": [
        "<a href=\"https://colab.research.google.com/github/Ganesh2549/umbc_data690_fall2024/blob/main/Assignment_1/Assignment_1.ipynb\" target=\"_parent\"><img src=\"https://colab.research.google.com/assets/colab-badge.svg\" alt=\"Open In Colab\"/></a>"
      ]
    },
    {
      "cell_type": "markdown",
      "source": [
        "Explorer the FALL 2022 Student Survey Response Data. Follow the similar steps we took in the class exploring the FALL 2024 response data. Try to be curious and creative and ask questions about the students and try to find answers using the data. If there are questions you are unable to do, leave them unaswered, and bring them up at next class so we can solve them together. For example, what are the most popular hobbies among the students? How to draw a bar chart and pie chart of students' gender distrbution?\n",
        "\n"
      ],
      "metadata": {
        "id": "3CKPODcRpWK3"
      }
    },
    {
      "cell_type": "code",
      "execution_count": null,
      "metadata": {
        "id": "3Icw8aBho4KP"
      },
      "outputs": [],
      "source": []
    }
  ]
}